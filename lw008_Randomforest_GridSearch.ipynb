{
 "cells": [
  {
   "cell_type": "markdown",
   "metadata": {},
   "source": [
    "RandomForestClassifier를 GridSearch를 통해 파라메터 최적화"
   ]
  },
  {
   "cell_type": "code",
   "execution_count": 1,
   "metadata": {},
   "outputs": [
    {
     "name": "stdout",
     "output_type": "stream",
     "text": [
      "Populating the interactive namespace from numpy and matplotlib\n"
     ]
    }
   ],
   "source": [
    "import numpy as np\n",
    "import cv2\n",
    "import os\n",
    "import itertools\n",
    "import time\n",
    "\n",
    "#for graphic\n",
    "from matplotlib import pyplot as plt\n",
    "import seaborn as sns\n",
    "%pylab inline\n",
    "# Load pandas\n",
    "import pandas as pd\n",
    "# Load numpy\n",
    "import numpy as np\n",
    "# Set random seed\n",
    "np.random.seed(0)\n",
    "\n",
    "# Load scikit's random forest classifier library\n",
    "#load classifier\n",
    "from sklearn.ensemble import RandomForestClassifier \n",
    "from sklearn import metrics\n",
    "from sklearn.model_selection import GridSearchCV\n",
    "from sklearn.metrics import classification_report\n",
    "\n",
    "#load utility\n",
    "from sklearn import model_selection\n",
    "from sklearn.metrics import confusion_matrix\n",
    "from sklearn.model_selection import train_test_split, cross_val_score\n",
    "\n",
    "\n",
    "import warnings\n",
    "warnings.filterwarnings('ignore')"
   ]
  },
  {
   "cell_type": "code",
   "execution_count": 2,
   "metadata": {
    "collapsed": true
   },
   "outputs": [],
   "source": [
    "def reshape_image(img):\n",
    "    return np.asarray(np.reshape(img,len(img) * len(img[0])))"
   ]
  },
  {
   "cell_type": "code",
   "execution_count": 3,
   "metadata": {
    "collapsed": true
   },
   "outputs": [],
   "source": [
    "def readDataset(dataRootDir, df, kindOfClass):\n",
    "    idx = 1 \n",
    "    for path, subdir, files in os.walk(dataRootDir):\n",
    "        for name in files :\n",
    "            input_files = os.path.join(path,name)\n",
    "            img = cv2.imread(input_files)\n",
    "            if img.shape[0] != 120 or img.shape[1] != 100 :\n",
    "                print(\"img {} is note valid {} \".format(name,img.shape))\n",
    "                continue\n",
    "            gray = cv2.cvtColor(img, cv2.COLOR_BGR2GRAY)\n",
    "       \n",
    "            idx += 1            \n",
    "            df.loc[len(df.index)+1] = [gray, kindOfClass]\n",
    "\n",
    "    print(\"load ok data : {}\".format(idx))\n",
    "    return df"
   ]
  },
  {
   "cell_type": "code",
   "execution_count": 4,
   "metadata": {
    "collapsed": true
   },
   "outputs": [],
   "source": [
    "df = pd.DataFrame(columns=('img','class'))"
   ]
  },
  {
   "cell_type": "code",
   "execution_count": 5,
   "metadata": {
    "collapsed": true
   },
   "outputs": [],
   "source": [
    "dataRootDir = \"/Users/mins/Documents/mv/ps/dataset/segment2\""
   ]
  },
  {
   "cell_type": "code",
   "execution_count": 6,
   "metadata": {},
   "outputs": [
    {
     "name": "stdout",
     "output_type": "stream",
     "text": [
      "Load ok data\n",
      "img 14_161901-6_3.jpg is note valid (120, 94, 3) \n",
      "img 19_114029-6_1.jpg is note valid (120, 90, 3) \n",
      "img 19_114029-6_4.jpg is note valid (120, 90, 3) \n",
      "load ok data : 1022\n",
      "Load ng data\n",
      "img 14_161901-6_6.jpg is note valid (120, 94, 3) \n",
      "load ok data : 212\n"
     ]
    }
   ],
   "source": [
    "#ok data 경로 설정 \n",
    "okDataDir = os.path.join(dataRootDir, \"ok\")\n",
    "#ng data 경로 설정 \n",
    "ngDataDir = os.path.join(dataRootDir, \"ng\")\n",
    "\n",
    "#ok data loadging\n",
    "print(\"Load ok data\")\n",
    "df = readDataset(okDataDir, df, 0)\n",
    "\n",
    "print(\"Load ng data\")\n",
    "#ng data loadging\n",
    "df = readDataset(ngDataDir, df, 1)"
   ]
  },
  {
   "cell_type": "code",
   "execution_count": 7,
   "metadata": {},
   "outputs": [
    {
     "name": "stdout",
     "output_type": "stream",
     "text": [
      "X:1232\n",
      "Y:1232\n",
      "x_train:924, y_train:924\n",
      "x_test:308 , y_test:308\n",
      "x_train: class 0 762, x_train: class 1 :162\n"
     ]
    }
   ],
   "source": [
    "imglist = df['img'].tolist()\n",
    "nImgCount = len(imglist)\n",
    "xlen = len(imglist[0])\n",
    "ylen = len(imglist[0][0])\n",
    "\n",
    "X = np.zeros((nImgCount, xlen*ylen))\n",
    "             \n",
    "for i in range(0,nImgCount):\n",
    "    X[i] = reshape_image(imglist[i])\n",
    "    \n",
    "Y = df['class'].astype(int).tolist()\n",
    "Y = np.asarray(Y)\n",
    "x_train, x_test, y_train, y_test = train_test_split(X,Y)\n",
    "print(\"X:{}\".format(len(X)))\n",
    "print(\"Y:{}\".format(len(Y)))\n",
    "print(\"x_train:{}, y_train:{}\".format(len(x_train),len(y_train)))\n",
    "print(\"x_test:{} , y_test:{}\".format(len(x_test), len(y_test)))\n",
    "print(\"x_train: class 0 {}, x_train: class 1 :{}\".format(np.count_nonzero(y_train==0),np.count_nonzero(y_train==1)))"
   ]
  },
  {
   "cell_type": "markdown",
   "metadata": {},
   "source": [
    "graph Utility"
   ]
  },
  {
   "cell_type": "code",
   "execution_count": 8,
   "metadata": {
    "collapsed": true
   },
   "outputs": [],
   "source": [
    "def draw_prcurve(test, score, color, label):\n",
    "    from sklearn.metrics import precision_recall_curve\n",
    "    import matplotlib.pyplot as plt\n",
    "    from sklearn.metrics import average_precision_score\n",
    "    \n",
    "    average_precision = average_precision_score(test, score)\n",
    "\n",
    "    precision, recall, _ = precision_recall_curve(test, score)\n",
    "    print(\"{} P:{} R:{}\".format(label, precision, recall))\n",
    "    \n",
    "    \n",
    "    plt.step(recall, precision, color=color, alpha=0.2,\n",
    "             where='post')\n",
    "    plt.fill_between(recall, precision, step='post', alpha=0.2,\n",
    "                     color=color)\n",
    "    plt.xlabel('Recall')\n",
    "    plt.ylabel('Precision')\n",
    "    plt.ylim([0.0, 1.05])\n",
    "    plt.xlim([0.0, 1.0])\n",
    "    plt.title('2-class Precision-Recall curve: AUC={0:0.2f}'.format(\n",
    "              average_precision))\n",
    "    "
   ]
  },
  {
   "cell_type": "code",
   "execution_count": 9,
   "metadata": {
    "collapsed": true
   },
   "outputs": [],
   "source": [
    "def plot_ROC(clf, x_test, y_test):\n",
    "    probs = clf.predict_proba(x_test)\n",
    "    preds = probs[:,1]\n",
    "    fpr, tpr, threshold = metrics.roc_curve(y_test, preds)\n",
    "    roc_auc = metrics.auc(fpr, tpr)\n",
    "\n",
    "    plt.title('Receiver Operating Characteristic')\n",
    "    plt.plot(fpr, tpr, 'b', label = 'AUC = %0.2f' % roc_auc)\n",
    "    plt.legend(loc = 'lower right')\n",
    "    plt.plot([0, 1], [0, 1],'r--')\n",
    "    plt.xlim([0, 1])\n",
    "    plt.ylim([0, 1])\n",
    "    plt.ylabel('True Positive Rate')\n",
    "    plt.xlabel('False Positive Rate')\n",
    "    plt.show()"
   ]
  },
  {
   "cell_type": "code",
   "execution_count": 10,
   "metadata": {
    "collapsed": true
   },
   "outputs": [],
   "source": [
    "def plot_confusion_matrix(cm, classes,\n",
    "                          normalize=False,\n",
    "                          title='Confusion matrix',\n",
    "                          cmap=plt.cm.Blues):\n",
    "    \"\"\"\n",
    "    This function prints and plots the confusion matrix.\n",
    "    Normalization can be applied by setting `normalize=True`.\n",
    "    \"\"\"\n",
    "    if normalize:\n",
    "        cm = cm.astype('float') / cm.sum(axis=1)[:, np.newaxis]\n",
    "        print(\"Normalized confusion matrix\")\n",
    "    else:\n",
    "        print('Confusion matrix, without normalization')\n",
    "\n",
    "    print(cm)\n",
    "\n",
    "    plt.imshow(cm, interpolation='nearest', cmap=cmap)\n",
    "    plt.title(title)\n",
    "    plt.colorbar()\n",
    "    tick_marks = np.arange(len(classes))\n",
    "    plt.xticks(tick_marks, classes, rotation=45)\n",
    "    plt.yticks(tick_marks, classes)\n",
    "\n",
    "    fmt = '.2f' if normalize else 'd'\n",
    "    thresh = cm.max() / 2.\n",
    "    for i, j in itertools.product(range(cm.shape[0]), range(cm.shape[1])):\n",
    "        plt.text(j, i, format(cm[i, j], fmt),\n",
    "                 horizontalalignment=\"center\",\n",
    "                 color=\"white\" if cm[i, j] > thresh else \"black\")\n",
    "\n",
    "    plt.tight_layout()\n",
    "    plt.ylabel('True label')\n",
    "    plt.xlabel('Predicted label')"
   ]
  },
  {
   "cell_type": "code",
   "execution_count": 11,
   "metadata": {
    "collapsed": true
   },
   "outputs": [],
   "source": [
    "def test_model2(clf, x_test, y_test):   \n",
    "   \n",
    "    y_pred = clf.predict(x_test)\n",
    "    # Compute confusion matrix\n",
    "    cnf_matrix = confusion_matrix(y_test, y_pred)\n",
    "    np.set_printoptions(precision=2)\n",
    "\n",
    "    # Plot non-normalized confusion matrix\n",
    "    plt.figure()\n",
    "    class_names = [\"OK\",\"NG\"]\n",
    "    plot_confusion_matrix(cnf_matrix, classes=class_names,\n",
    "                          title='Confusion matrix, without normalization')\n",
    "\n",
    "    # Plot normalized confusion matrix\n",
    "    plt.figure()\n",
    "    plot_confusion_matrix(cnf_matrix, classes=class_names, normalize=True,\n",
    "                          title='Normalized confusion matrix')\n",
    "\n",
    "    plt.show()"
   ]
  },
  {
   "cell_type": "markdown",
   "metadata": {},
   "source": [
    "Grid Search"
   ]
  },
  {
   "cell_type": "code",
   "execution_count": 12,
   "metadata": {
    "collapsed": true
   },
   "outputs": [],
   "source": [
    "tuned_parameters = [\n",
    "    {'criterion': ['gini'],    'max_depth': [3,5,7,9],\n",
    "     'n_estimators': [8,32,128,512], 'n_jobs':[-1], \n",
    "     'class_weight':['balanced',{0:0.4, 1:0.6},{0:0.3, 1:0.7},{0:0.2, 1:0.8}]},\n",
    "    {'criterion': ['entropy'], 'max_depth': [3,5,7,9],\n",
    "     'n_estimators': [8,32,128,512], \n",
    "     'n_jobs':[-1],\n",
    "     'class_weight':['balanced',{0:0.4, 1:0.6},{0:0.3, 1:0.7},{0:0.2, 1:0.8}]}\n",
    "]"
   ]
  },
  {
   "cell_type": "code",
   "execution_count": 13,
   "metadata": {},
   "outputs": [
    {
     "name": "stdout",
     "output_type": "stream",
     "text": [
      "# Tuning hyper-parameters for precision\n",
      "\n",
      "Best parameters set found on development set:\n",
      "\n",
      "{'class_weight': {0: 0.3, 1: 0.7}, 'criterion': 'gini', 'max_depth': 7, 'n_estimators': 32, 'n_jobs': -1}\n",
      "\n",
      "Grid scores on development set:\n",
      "\n",
      "0.884 (+/-0.046) for {'class_weight': 'balanced', 'criterion': 'gini', 'max_depth': 3, 'n_estimators': 8, 'n_jobs': -1}\n",
      "0.892 (+/-0.066) for {'class_weight': 'balanced', 'criterion': 'gini', 'max_depth': 3, 'n_estimators': 32, 'n_jobs': -1}\n",
      "0.904 (+/-0.054) for {'class_weight': 'balanced', 'criterion': 'gini', 'max_depth': 3, 'n_estimators': 128, 'n_jobs': -1}\n",
      "0.905 (+/-0.057) for {'class_weight': 'balanced', 'criterion': 'gini', 'max_depth': 3, 'n_estimators': 512, 'n_jobs': -1}\n",
      "0.909 (+/-0.057) for {'class_weight': 'balanced', 'criterion': 'gini', 'max_depth': 5, 'n_estimators': 8, 'n_jobs': -1}\n",
      "0.927 (+/-0.058) for {'class_weight': 'balanced', 'criterion': 'gini', 'max_depth': 5, 'n_estimators': 32, 'n_jobs': -1}\n",
      "0.930 (+/-0.055) for {'class_weight': 'balanced', 'criterion': 'gini', 'max_depth': 5, 'n_estimators': 128, 'n_jobs': -1}\n",
      "0.932 (+/-0.052) for {'class_weight': 'balanced', 'criterion': 'gini', 'max_depth': 5, 'n_estimators': 512, 'n_jobs': -1}\n",
      "0.921 (+/-0.053) for {'class_weight': 'balanced', 'criterion': 'gini', 'max_depth': 7, 'n_estimators': 8, 'n_jobs': -1}\n",
      "0.912 (+/-0.068) for {'class_weight': 'balanced', 'criterion': 'gini', 'max_depth': 7, 'n_estimators': 32, 'n_jobs': -1}\n",
      "0.937 (+/-0.045) for {'class_weight': 'balanced', 'criterion': 'gini', 'max_depth': 7, 'n_estimators': 128, 'n_jobs': -1}\n",
      "0.943 (+/-0.049) for {'class_weight': 'balanced', 'criterion': 'gini', 'max_depth': 7, 'n_estimators': 512, 'n_jobs': -1}\n",
      "0.921 (+/-0.061) for {'class_weight': 'balanced', 'criterion': 'gini', 'max_depth': 9, 'n_estimators': 8, 'n_jobs': -1}\n",
      "0.926 (+/-0.072) for {'class_weight': 'balanced', 'criterion': 'gini', 'max_depth': 9, 'n_estimators': 32, 'n_jobs': -1}\n",
      "0.930 (+/-0.050) for {'class_weight': 'balanced', 'criterion': 'gini', 'max_depth': 9, 'n_estimators': 128, 'n_jobs': -1}\n",
      "0.942 (+/-0.031) for {'class_weight': 'balanced', 'criterion': 'gini', 'max_depth': 9, 'n_estimators': 512, 'n_jobs': -1}\n",
      "0.898 (+/-0.057) for {'class_weight': {0: 0.4, 1: 0.6}, 'criterion': 'gini', 'max_depth': 3, 'n_estimators': 8, 'n_jobs': -1}\n",
      "0.916 (+/-0.054) for {'class_weight': {0: 0.4, 1: 0.6}, 'criterion': 'gini', 'max_depth': 3, 'n_estimators': 32, 'n_jobs': -1}\n",
      "0.926 (+/-0.056) for {'class_weight': {0: 0.4, 1: 0.6}, 'criterion': 'gini', 'max_depth': 3, 'n_estimators': 128, 'n_jobs': -1}\n",
      "0.930 (+/-0.049) for {'class_weight': {0: 0.4, 1: 0.6}, 'criterion': 'gini', 'max_depth': 3, 'n_estimators': 512, 'n_jobs': -1}\n",
      "0.906 (+/-0.074) for {'class_weight': {0: 0.4, 1: 0.6}, 'criterion': 'gini', 'max_depth': 5, 'n_estimators': 8, 'n_jobs': -1}\n",
      "0.942 (+/-0.030) for {'class_weight': {0: 0.4, 1: 0.6}, 'criterion': 'gini', 'max_depth': 5, 'n_estimators': 32, 'n_jobs': -1}\n",
      "0.938 (+/-0.041) for {'class_weight': {0: 0.4, 1: 0.6}, 'criterion': 'gini', 'max_depth': 5, 'n_estimators': 128, 'n_jobs': -1}\n",
      "0.939 (+/-0.038) for {'class_weight': {0: 0.4, 1: 0.6}, 'criterion': 'gini', 'max_depth': 5, 'n_estimators': 512, 'n_jobs': -1}\n",
      "0.906 (+/-0.059) for {'class_weight': {0: 0.4, 1: 0.6}, 'criterion': 'gini', 'max_depth': 7, 'n_estimators': 8, 'n_jobs': -1}\n",
      "0.926 (+/-0.042) for {'class_weight': {0: 0.4, 1: 0.6}, 'criterion': 'gini', 'max_depth': 7, 'n_estimators': 32, 'n_jobs': -1}\n",
      "0.933 (+/-0.058) for {'class_weight': {0: 0.4, 1: 0.6}, 'criterion': 'gini', 'max_depth': 7, 'n_estimators': 128, 'n_jobs': -1}\n",
      "0.941 (+/-0.032) for {'class_weight': {0: 0.4, 1: 0.6}, 'criterion': 'gini', 'max_depth': 7, 'n_estimators': 512, 'n_jobs': -1}\n",
      "0.886 (+/-0.101) for {'class_weight': {0: 0.4, 1: 0.6}, 'criterion': 'gini', 'max_depth': 9, 'n_estimators': 8, 'n_jobs': -1}\n",
      "0.934 (+/-0.047) for {'class_weight': {0: 0.4, 1: 0.6}, 'criterion': 'gini', 'max_depth': 9, 'n_estimators': 32, 'n_jobs': -1}\n",
      "0.942 (+/-0.055) for {'class_weight': {0: 0.4, 1: 0.6}, 'criterion': 'gini', 'max_depth': 9, 'n_estimators': 128, 'n_jobs': -1}\n",
      "0.939 (+/-0.035) for {'class_weight': {0: 0.4, 1: 0.6}, 'criterion': 'gini', 'max_depth': 9, 'n_estimators': 512, 'n_jobs': -1}\n",
      "0.913 (+/-0.056) for {'class_weight': {0: 0.3, 1: 0.7}, 'criterion': 'gini', 'max_depth': 3, 'n_estimators': 8, 'n_jobs': -1}\n",
      "0.915 (+/-0.065) for {'class_weight': {0: 0.3, 1: 0.7}, 'criterion': 'gini', 'max_depth': 3, 'n_estimators': 32, 'n_jobs': -1}\n",
      "0.927 (+/-0.068) for {'class_weight': {0: 0.3, 1: 0.7}, 'criterion': 'gini', 'max_depth': 3, 'n_estimators': 128, 'n_jobs': -1}\n",
      "0.930 (+/-0.054) for {'class_weight': {0: 0.3, 1: 0.7}, 'criterion': 'gini', 'max_depth': 3, 'n_estimators': 512, 'n_jobs': -1}\n",
      "0.926 (+/-0.073) for {'class_weight': {0: 0.3, 1: 0.7}, 'criterion': 'gini', 'max_depth': 5, 'n_estimators': 8, 'n_jobs': -1}\n",
      "0.947 (+/-0.044) for {'class_weight': {0: 0.3, 1: 0.7}, 'criterion': 'gini', 'max_depth': 5, 'n_estimators': 32, 'n_jobs': -1}\n",
      "0.932 (+/-0.044) for {'class_weight': {0: 0.3, 1: 0.7}, 'criterion': 'gini', 'max_depth': 5, 'n_estimators': 128, 'n_jobs': -1}\n",
      "0.938 (+/-0.038) for {'class_weight': {0: 0.3, 1: 0.7}, 'criterion': 'gini', 'max_depth': 5, 'n_estimators': 512, 'n_jobs': -1}\n",
      "0.915 (+/-0.071) for {'class_weight': {0: 0.3, 1: 0.7}, 'criterion': 'gini', 'max_depth': 7, 'n_estimators': 8, 'n_jobs': -1}\n",
      "0.949 (+/-0.042) for {'class_weight': {0: 0.3, 1: 0.7}, 'criterion': 'gini', 'max_depth': 7, 'n_estimators': 32, 'n_jobs': -1}\n",
      "0.948 (+/-0.023) for {'class_weight': {0: 0.3, 1: 0.7}, 'criterion': 'gini', 'max_depth': 7, 'n_estimators': 128, 'n_jobs': -1}\n",
      "0.935 (+/-0.043) for {'class_weight': {0: 0.3, 1: 0.7}, 'criterion': 'gini', 'max_depth': 7, 'n_estimators': 512, 'n_jobs': -1}\n",
      "0.920 (+/-0.052) for {'class_weight': {0: 0.3, 1: 0.7}, 'criterion': 'gini', 'max_depth': 9, 'n_estimators': 8, 'n_jobs': -1}\n",
      "0.948 (+/-0.044) for {'class_weight': {0: 0.3, 1: 0.7}, 'criterion': 'gini', 'max_depth': 9, 'n_estimators': 32, 'n_jobs': -1}\n",
      "0.936 (+/-0.051) for {'class_weight': {0: 0.3, 1: 0.7}, 'criterion': 'gini', 'max_depth': 9, 'n_estimators': 128, 'n_jobs': -1}\n",
      "0.943 (+/-0.029) for {'class_weight': {0: 0.3, 1: 0.7}, 'criterion': 'gini', 'max_depth': 9, 'n_estimators': 512, 'n_jobs': -1}\n",
      "0.879 (+/-0.066) for {'class_weight': {0: 0.2, 1: 0.8}, 'criterion': 'gini', 'max_depth': 3, 'n_estimators': 8, 'n_jobs': -1}\n",
      "0.902 (+/-0.039) for {'class_weight': {0: 0.2, 1: 0.8}, 'criterion': 'gini', 'max_depth': 3, 'n_estimators': 32, 'n_jobs': -1}\n",
      "0.903 (+/-0.054) for {'class_weight': {0: 0.2, 1: 0.8}, 'criterion': 'gini', 'max_depth': 3, 'n_estimators': 128, 'n_jobs': -1}\n",
      "0.910 (+/-0.034) for {'class_weight': {0: 0.2, 1: 0.8}, 'criterion': 'gini', 'max_depth': 3, 'n_estimators': 512, 'n_jobs': -1}\n",
      "0.916 (+/-0.078) for {'class_weight': {0: 0.2, 1: 0.8}, 'criterion': 'gini', 'max_depth': 5, 'n_estimators': 8, 'n_jobs': -1}\n",
      "0.921 (+/-0.053) for {'class_weight': {0: 0.2, 1: 0.8}, 'criterion': 'gini', 'max_depth': 5, 'n_estimators': 32, 'n_jobs': -1}\n",
      "0.937 (+/-0.041) for {'class_weight': {0: 0.2, 1: 0.8}, 'criterion': 'gini', 'max_depth': 5, 'n_estimators': 128, 'n_jobs': -1}\n",
      "0.935 (+/-0.071) for {'class_weight': {0: 0.2, 1: 0.8}, 'criterion': 'gini', 'max_depth': 5, 'n_estimators': 512, 'n_jobs': -1}\n",
      "0.929 (+/-0.068) for {'class_weight': {0: 0.2, 1: 0.8}, 'criterion': 'gini', 'max_depth': 7, 'n_estimators': 8, 'n_jobs': -1}\n",
      "0.931 (+/-0.041) for {'class_weight': {0: 0.2, 1: 0.8}, 'criterion': 'gini', 'max_depth': 7, 'n_estimators': 32, 'n_jobs': -1}\n",
      "0.939 (+/-0.053) for {'class_weight': {0: 0.2, 1: 0.8}, 'criterion': 'gini', 'max_depth': 7, 'n_estimators': 128, 'n_jobs': -1}\n",
      "0.939 (+/-0.050) for {'class_weight': {0: 0.2, 1: 0.8}, 'criterion': 'gini', 'max_depth': 7, 'n_estimators': 512, 'n_jobs': -1}\n",
      "0.902 (+/-0.070) for {'class_weight': {0: 0.2, 1: 0.8}, 'criterion': 'gini', 'max_depth': 9, 'n_estimators': 8, 'n_jobs': -1}\n",
      "0.932 (+/-0.033) for {'class_weight': {0: 0.2, 1: 0.8}, 'criterion': 'gini', 'max_depth': 9, 'n_estimators': 32, 'n_jobs': -1}\n",
      "0.946 (+/-0.047) for {'class_weight': {0: 0.2, 1: 0.8}, 'criterion': 'gini', 'max_depth': 9, 'n_estimators': 128, 'n_jobs': -1}\n",
      "0.949 (+/-0.025) for {'class_weight': {0: 0.2, 1: 0.8}, 'criterion': 'gini', 'max_depth': 9, 'n_estimators': 512, 'n_jobs': -1}\n",
      "0.878 (+/-0.048) for {'class_weight': 'balanced', 'criterion': 'entropy', 'max_depth': 3, 'n_estimators': 8, 'n_jobs': -1}\n",
      "0.890 (+/-0.059) for {'class_weight': 'balanced', 'criterion': 'entropy', 'max_depth': 3, 'n_estimators': 32, 'n_jobs': -1}\n",
      "0.907 (+/-0.054) for {'class_weight': 'balanced', 'criterion': 'entropy', 'max_depth': 3, 'n_estimators': 128, 'n_jobs': -1}\n",
      "0.903 (+/-0.055) for {'class_weight': 'balanced', 'criterion': 'entropy', 'max_depth': 3, 'n_estimators': 512, 'n_jobs': -1}\n",
      "0.911 (+/-0.069) for {'class_weight': 'balanced', 'criterion': 'entropy', 'max_depth': 5, 'n_estimators': 8, 'n_jobs': -1}\n",
      "0.927 (+/-0.060) for {'class_weight': 'balanced', 'criterion': 'entropy', 'max_depth': 5, 'n_estimators': 32, 'n_jobs': -1}\n",
      "0.923 (+/-0.062) for {'class_weight': 'balanced', 'criterion': 'entropy', 'max_depth': 5, 'n_estimators': 128, 'n_jobs': -1}\n",
      "0.932 (+/-0.053) for {'class_weight': 'balanced', 'criterion': 'entropy', 'max_depth': 5, 'n_estimators': 512, 'n_jobs': -1}\n",
      "0.921 (+/-0.039) for {'class_weight': 'balanced', 'criterion': 'entropy', 'max_depth': 7, 'n_estimators': 8, 'n_jobs': -1}\n",
      "0.938 (+/-0.032) for {'class_weight': 'balanced', 'criterion': 'entropy', 'max_depth': 7, 'n_estimators': 32, 'n_jobs': -1}\n",
      "0.935 (+/-0.047) for {'class_weight': 'balanced', 'criterion': 'entropy', 'max_depth': 7, 'n_estimators': 128, 'n_jobs': -1}\n",
      "0.940 (+/-0.047) for {'class_weight': 'balanced', 'criterion': 'entropy', 'max_depth': 7, 'n_estimators': 512, 'n_jobs': -1}\n",
      "0.924 (+/-0.033) for {'class_weight': 'balanced', 'criterion': 'entropy', 'max_depth': 9, 'n_estimators': 8, 'n_jobs': -1}\n",
      "0.937 (+/-0.051) for {'class_weight': 'balanced', 'criterion': 'entropy', 'max_depth': 9, 'n_estimators': 32, 'n_jobs': -1}\n",
      "0.939 (+/-0.035) for {'class_weight': 'balanced', 'criterion': 'entropy', 'max_depth': 9, 'n_estimators': 128, 'n_jobs': -1}\n",
      "0.937 (+/-0.036) for {'class_weight': 'balanced', 'criterion': 'entropy', 'max_depth': 9, 'n_estimators': 512, 'n_jobs': -1}\n",
      "0.890 (+/-0.074) for {'class_weight': {0: 0.4, 1: 0.6}, 'criterion': 'entropy', 'max_depth': 3, 'n_estimators': 8, 'n_jobs': -1}\n",
      "0.924 (+/-0.059) for {'class_weight': {0: 0.4, 1: 0.6}, 'criterion': 'entropy', 'max_depth': 3, 'n_estimators': 32, 'n_jobs': -1}\n",
      "0.928 (+/-0.063) for {'class_weight': {0: 0.4, 1: 0.6}, 'criterion': 'entropy', 'max_depth': 3, 'n_estimators': 128, 'n_jobs': -1}\n",
      "0.928 (+/-0.049) for {'class_weight': {0: 0.4, 1: 0.6}, 'criterion': 'entropy', 'max_depth': 3, 'n_estimators': 512, 'n_jobs': -1}\n",
      "0.927 (+/-0.056) for {'class_weight': {0: 0.4, 1: 0.6}, 'criterion': 'entropy', 'max_depth': 5, 'n_estimators': 8, 'n_jobs': -1}\n",
      "0.931 (+/-0.041) for {'class_weight': {0: 0.4, 1: 0.6}, 'criterion': 'entropy', 'max_depth': 5, 'n_estimators': 32, 'n_jobs': -1}\n",
      "0.937 (+/-0.040) for {'class_weight': {0: 0.4, 1: 0.6}, 'criterion': 'entropy', 'max_depth': 5, 'n_estimators': 128, 'n_jobs': -1}\n",
      "0.940 (+/-0.038) for {'class_weight': {0: 0.4, 1: 0.6}, 'criterion': 'entropy', 'max_depth': 5, 'n_estimators': 512, 'n_jobs': -1}\n",
      "0.928 (+/-0.082) for {'class_weight': {0: 0.4, 1: 0.6}, 'criterion': 'entropy', 'max_depth': 7, 'n_estimators': 8, 'n_jobs': -1}\n",
      "0.923 (+/-0.035) for {'class_weight': {0: 0.4, 1: 0.6}, 'criterion': 'entropy', 'max_depth': 7, 'n_estimators': 32, 'n_jobs': -1}\n",
      "0.940 (+/-0.039) for {'class_weight': {0: 0.4, 1: 0.6}, 'criterion': 'entropy', 'max_depth': 7, 'n_estimators': 128, 'n_jobs': -1}\n",
      "0.940 (+/-0.039) for {'class_weight': {0: 0.4, 1: 0.6}, 'criterion': 'entropy', 'max_depth': 7, 'n_estimators': 512, 'n_jobs': -1}\n",
      "0.930 (+/-0.060) for {'class_weight': {0: 0.4, 1: 0.6}, 'criterion': 'entropy', 'max_depth': 9, 'n_estimators': 8, 'n_jobs': -1}\n",
      "0.935 (+/-0.039) for {'class_weight': {0: 0.4, 1: 0.6}, 'criterion': 'entropy', 'max_depth': 9, 'n_estimators': 32, 'n_jobs': -1}\n",
      "0.939 (+/-0.040) for {'class_weight': {0: 0.4, 1: 0.6}, 'criterion': 'entropy', 'max_depth': 9, 'n_estimators': 128, 'n_jobs': -1}\n",
      "0.940 (+/-0.039) for {'class_weight': {0: 0.4, 1: 0.6}, 'criterion': 'entropy', 'max_depth': 9, 'n_estimators': 512, 'n_jobs': -1}\n",
      "0.903 (+/-0.035) for {'class_weight': {0: 0.3, 1: 0.7}, 'criterion': 'entropy', 'max_depth': 3, 'n_estimators': 8, 'n_jobs': -1}\n",
      "0.923 (+/-0.065) for {'class_weight': {0: 0.3, 1: 0.7}, 'criterion': 'entropy', 'max_depth': 3, 'n_estimators': 32, 'n_jobs': -1}\n",
      "0.919 (+/-0.063) for {'class_weight': {0: 0.3, 1: 0.7}, 'criterion': 'entropy', 'max_depth': 3, 'n_estimators': 128, 'n_jobs': -1}\n",
      "0.924 (+/-0.063) for {'class_weight': {0: 0.3, 1: 0.7}, 'criterion': 'entropy', 'max_depth': 3, 'n_estimators': 512, 'n_jobs': -1}\n",
      "0.917 (+/-0.088) for {'class_weight': {0: 0.3, 1: 0.7}, 'criterion': 'entropy', 'max_depth': 5, 'n_estimators': 8, 'n_jobs': -1}\n",
      "0.926 (+/-0.050) for {'class_weight': {0: 0.3, 1: 0.7}, 'criterion': 'entropy', 'max_depth': 5, 'n_estimators': 32, 'n_jobs': -1}\n",
      "0.922 (+/-0.065) for {'class_weight': {0: 0.3, 1: 0.7}, 'criterion': 'entropy', 'max_depth': 5, 'n_estimators': 128, 'n_jobs': -1}\n",
      "0.937 (+/-0.037) for {'class_weight': {0: 0.3, 1: 0.7}, 'criterion': 'entropy', 'max_depth': 5, 'n_estimators': 512, 'n_jobs': -1}\n",
      "0.912 (+/-0.064) for {'class_weight': {0: 0.3, 1: 0.7}, 'criterion': 'entropy', 'max_depth': 7, 'n_estimators': 8, 'n_jobs': -1}\n",
      "0.939 (+/-0.047) for {'class_weight': {0: 0.3, 1: 0.7}, 'criterion': 'entropy', 'max_depth': 7, 'n_estimators': 32, 'n_jobs': -1}\n",
      "0.930 (+/-0.047) for {'class_weight': {0: 0.3, 1: 0.7}, 'criterion': 'entropy', 'max_depth': 7, 'n_estimators': 128, 'n_jobs': -1}\n",
      "0.942 (+/-0.027) for {'class_weight': {0: 0.3, 1: 0.7}, 'criterion': 'entropy', 'max_depth': 7, 'n_estimators': 512, 'n_jobs': -1}\n",
      "0.945 (+/-0.043) for {'class_weight': {0: 0.3, 1: 0.7}, 'criterion': 'entropy', 'max_depth': 9, 'n_estimators': 8, 'n_jobs': -1}\n",
      "0.929 (+/-0.041) for {'class_weight': {0: 0.3, 1: 0.7}, 'criterion': 'entropy', 'max_depth': 9, 'n_estimators': 32, 'n_jobs': -1}\n",
      "0.940 (+/-0.030) for {'class_weight': {0: 0.3, 1: 0.7}, 'criterion': 'entropy', 'max_depth': 9, 'n_estimators': 128, 'n_jobs': -1}\n",
      "0.939 (+/-0.039) for {'class_weight': {0: 0.3, 1: 0.7}, 'criterion': 'entropy', 'max_depth': 9, 'n_estimators': 512, 'n_jobs': -1}\n",
      "0.893 (+/-0.047) for {'class_weight': {0: 0.2, 1: 0.8}, 'criterion': 'entropy', 'max_depth': 3, 'n_estimators': 8, 'n_jobs': -1}\n",
      "0.901 (+/-0.068) for {'class_weight': {0: 0.2, 1: 0.8}, 'criterion': 'entropy', 'max_depth': 3, 'n_estimators': 32, 'n_jobs': -1}\n",
      "0.912 (+/-0.056) for {'class_weight': {0: 0.2, 1: 0.8}, 'criterion': 'entropy', 'max_depth': 3, 'n_estimators': 128, 'n_jobs': -1}\n",
      "0.903 (+/-0.048) for {'class_weight': {0: 0.2, 1: 0.8}, 'criterion': 'entropy', 'max_depth': 3, 'n_estimators': 512, 'n_jobs': -1}\n",
      "0.902 (+/-0.043) for {'class_weight': {0: 0.2, 1: 0.8}, 'criterion': 'entropy', 'max_depth': 5, 'n_estimators': 8, 'n_jobs': -1}\n",
      "0.914 (+/-0.060) for {'class_weight': {0: 0.2, 1: 0.8}, 'criterion': 'entropy', 'max_depth': 5, 'n_estimators': 32, 'n_jobs': -1}\n",
      "0.929 (+/-0.055) for {'class_weight': {0: 0.2, 1: 0.8}, 'criterion': 'entropy', 'max_depth': 5, 'n_estimators': 128, 'n_jobs': -1}\n",
      "0.932 (+/-0.054) for {'class_weight': {0: 0.2, 1: 0.8}, 'criterion': 'entropy', 'max_depth': 5, 'n_estimators': 512, 'n_jobs': -1}\n",
      "0.922 (+/-0.081) for {'class_weight': {0: 0.2, 1: 0.8}, 'criterion': 'entropy', 'max_depth': 7, 'n_estimators': 8, 'n_jobs': -1}\n",
      "0.935 (+/-0.068) for {'class_weight': {0: 0.2, 1: 0.8}, 'criterion': 'entropy', 'max_depth': 7, 'n_estimators': 32, 'n_jobs': -1}\n",
      "0.935 (+/-0.046) for {'class_weight': {0: 0.2, 1: 0.8}, 'criterion': 'entropy', 'max_depth': 7, 'n_estimators': 128, 'n_jobs': -1}\n",
      "0.941 (+/-0.046) for {'class_weight': {0: 0.2, 1: 0.8}, 'criterion': 'entropy', 'max_depth': 7, 'n_estimators': 512, 'n_jobs': -1}\n",
      "0.936 (+/-0.028) for {'class_weight': {0: 0.2, 1: 0.8}, 'criterion': 'entropy', 'max_depth': 9, 'n_estimators': 8, 'n_jobs': -1}\n",
      "0.933 (+/-0.057) for {'class_weight': {0: 0.2, 1: 0.8}, 'criterion': 'entropy', 'max_depth': 9, 'n_estimators': 32, 'n_jobs': -1}\n",
      "0.945 (+/-0.026) for {'class_weight': {0: 0.2, 1: 0.8}, 'criterion': 'entropy', 'max_depth': 9, 'n_estimators': 128, 'n_jobs': -1}\n",
      "0.939 (+/-0.032) for {'class_weight': {0: 0.2, 1: 0.8}, 'criterion': 'entropy', 'max_depth': 9, 'n_estimators': 512, 'n_jobs': -1}\n",
      "\n",
      "Detailed classification report:\n",
      "\n",
      "The model is trained on the full development set.\n",
      "The scores are computed on the full evaluation set.\n",
      "\n",
      "             precision    recall  f1-score   support\n",
      "\n",
      "          0       0.94      0.99      0.97       259\n",
      "          1       0.92      0.69      0.79        49\n",
      "\n",
      "avg / total       0.94      0.94      0.94       308\n",
      "\n",
      "\n",
      "# Tuning hyper-parameters for recall\n",
      "\n"
     ]
    },
    {
     "name": "stdout",
     "output_type": "stream",
     "text": [
      "Best parameters set found on development set:\n",
      "\n",
      "{'class_weight': 'balanced', 'criterion': 'gini', 'max_depth': 3, 'n_estimators': 512, 'n_jobs': -1}\n",
      "\n",
      "Grid scores on development set:\n",
      "\n",
      "0.878 (+/-0.066) for {'class_weight': 'balanced', 'criterion': 'gini', 'max_depth': 3, 'n_estimators': 8, 'n_jobs': -1}\n",
      "0.878 (+/-0.029) for {'class_weight': 'balanced', 'criterion': 'gini', 'max_depth': 3, 'n_estimators': 32, 'n_jobs': -1}\n",
      "0.894 (+/-0.036) for {'class_weight': 'balanced', 'criterion': 'gini', 'max_depth': 3, 'n_estimators': 128, 'n_jobs': -1}\n",
      "0.903 (+/-0.035) for {'class_weight': 'balanced', 'criterion': 'gini', 'max_depth': 3, 'n_estimators': 512, 'n_jobs': -1}\n",
      "0.847 (+/-0.097) for {'class_weight': 'balanced', 'criterion': 'gini', 'max_depth': 5, 'n_estimators': 8, 'n_jobs': -1}\n",
      "0.870 (+/-0.031) for {'class_weight': 'balanced', 'criterion': 'gini', 'max_depth': 5, 'n_estimators': 32, 'n_jobs': -1}\n",
      "0.872 (+/-0.048) for {'class_weight': 'balanced', 'criterion': 'gini', 'max_depth': 5, 'n_estimators': 128, 'n_jobs': -1}\n",
      "0.883 (+/-0.065) for {'class_weight': 'balanced', 'criterion': 'gini', 'max_depth': 5, 'n_estimators': 512, 'n_jobs': -1}\n",
      "0.803 (+/-0.095) for {'class_weight': 'balanced', 'criterion': 'gini', 'max_depth': 7, 'n_estimators': 8, 'n_jobs': -1}\n",
      "0.838 (+/-0.077) for {'class_weight': 'balanced', 'criterion': 'gini', 'max_depth': 7, 'n_estimators': 32, 'n_jobs': -1}\n",
      "0.856 (+/-0.058) for {'class_weight': 'balanced', 'criterion': 'gini', 'max_depth': 7, 'n_estimators': 128, 'n_jobs': -1}\n",
      "0.858 (+/-0.068) for {'class_weight': 'balanced', 'criterion': 'gini', 'max_depth': 7, 'n_estimators': 512, 'n_jobs': -1}\n",
      "0.783 (+/-0.055) for {'class_weight': 'balanced', 'criterion': 'gini', 'max_depth': 9, 'n_estimators': 8, 'n_jobs': -1}\n",
      "0.821 (+/-0.114) for {'class_weight': 'balanced', 'criterion': 'gini', 'max_depth': 9, 'n_estimators': 32, 'n_jobs': -1}\n",
      "0.834 (+/-0.059) for {'class_weight': 'balanced', 'criterion': 'gini', 'max_depth': 9, 'n_estimators': 128, 'n_jobs': -1}\n",
      "0.853 (+/-0.043) for {'class_weight': 'balanced', 'criterion': 'gini', 'max_depth': 9, 'n_estimators': 512, 'n_jobs': -1}\n",
      "0.813 (+/-0.072) for {'class_weight': {0: 0.4, 1: 0.6}, 'criterion': 'gini', 'max_depth': 3, 'n_estimators': 8, 'n_jobs': -1}\n",
      "0.804 (+/-0.083) for {'class_weight': {0: 0.4, 1: 0.6}, 'criterion': 'gini', 'max_depth': 3, 'n_estimators': 32, 'n_jobs': -1}\n",
      "0.817 (+/-0.091) for {'class_weight': {0: 0.4, 1: 0.6}, 'criterion': 'gini', 'max_depth': 3, 'n_estimators': 128, 'n_jobs': -1}\n",
      "0.832 (+/-0.076) for {'class_weight': {0: 0.4, 1: 0.6}, 'criterion': 'gini', 'max_depth': 3, 'n_estimators': 512, 'n_jobs': -1}\n",
      "0.801 (+/-0.082) for {'class_weight': {0: 0.4, 1: 0.6}, 'criterion': 'gini', 'max_depth': 5, 'n_estimators': 8, 'n_jobs': -1}\n",
      "0.861 (+/-0.062) for {'class_weight': {0: 0.4, 1: 0.6}, 'criterion': 'gini', 'max_depth': 5, 'n_estimators': 32, 'n_jobs': -1}\n",
      "0.847 (+/-0.078) for {'class_weight': {0: 0.4, 1: 0.6}, 'criterion': 'gini', 'max_depth': 5, 'n_estimators': 128, 'n_jobs': -1}\n",
      "0.858 (+/-0.050) for {'class_weight': {0: 0.4, 1: 0.6}, 'criterion': 'gini', 'max_depth': 5, 'n_estimators': 512, 'n_jobs': -1}\n",
      "0.825 (+/-0.106) for {'class_weight': {0: 0.4, 1: 0.6}, 'criterion': 'gini', 'max_depth': 7, 'n_estimators': 8, 'n_jobs': -1}\n",
      "0.838 (+/-0.062) for {'class_weight': {0: 0.4, 1: 0.6}, 'criterion': 'gini', 'max_depth': 7, 'n_estimators': 32, 'n_jobs': -1}\n",
      "0.859 (+/-0.070) for {'class_weight': {0: 0.4, 1: 0.6}, 'criterion': 'gini', 'max_depth': 7, 'n_estimators': 128, 'n_jobs': -1}\n",
      "0.866 (+/-0.061) for {'class_weight': {0: 0.4, 1: 0.6}, 'criterion': 'gini', 'max_depth': 7, 'n_estimators': 512, 'n_jobs': -1}\n",
      "0.825 (+/-0.095) for {'class_weight': {0: 0.4, 1: 0.6}, 'criterion': 'gini', 'max_depth': 9, 'n_estimators': 8, 'n_jobs': -1}\n",
      "0.863 (+/-0.055) for {'class_weight': {0: 0.4, 1: 0.6}, 'criterion': 'gini', 'max_depth': 9, 'n_estimators': 32, 'n_jobs': -1}\n",
      "0.851 (+/-0.052) for {'class_weight': {0: 0.4, 1: 0.6}, 'criterion': 'gini', 'max_depth': 9, 'n_estimators': 128, 'n_jobs': -1}\n",
      "0.858 (+/-0.049) for {'class_weight': {0: 0.4, 1: 0.6}, 'criterion': 'gini', 'max_depth': 9, 'n_estimators': 512, 'n_jobs': -1}\n",
      "0.824 (+/-0.042) for {'class_weight': {0: 0.3, 1: 0.7}, 'criterion': 'gini', 'max_depth': 3, 'n_estimators': 8, 'n_jobs': -1}\n",
      "0.839 (+/-0.080) for {'class_weight': {0: 0.3, 1: 0.7}, 'criterion': 'gini', 'max_depth': 3, 'n_estimators': 32, 'n_jobs': -1}\n",
      "0.870 (+/-0.038) for {'class_weight': {0: 0.3, 1: 0.7}, 'criterion': 'gini', 'max_depth': 3, 'n_estimators': 128, 'n_jobs': -1}\n",
      "0.862 (+/-0.057) for {'class_weight': {0: 0.3, 1: 0.7}, 'criterion': 'gini', 'max_depth': 3, 'n_estimators': 512, 'n_jobs': -1}\n",
      "0.831 (+/-0.058) for {'class_weight': {0: 0.3, 1: 0.7}, 'criterion': 'gini', 'max_depth': 5, 'n_estimators': 8, 'n_jobs': -1}\n",
      "0.853 (+/-0.053) for {'class_weight': {0: 0.3, 1: 0.7}, 'criterion': 'gini', 'max_depth': 5, 'n_estimators': 32, 'n_jobs': -1}\n",
      "0.864 (+/-0.057) for {'class_weight': {0: 0.3, 1: 0.7}, 'criterion': 'gini', 'max_depth': 5, 'n_estimators': 128, 'n_jobs': -1}\n",
      "0.853 (+/-0.052) for {'class_weight': {0: 0.3, 1: 0.7}, 'criterion': 'gini', 'max_depth': 5, 'n_estimators': 512, 'n_jobs': -1}\n",
      "0.833 (+/-0.086) for {'class_weight': {0: 0.3, 1: 0.7}, 'criterion': 'gini', 'max_depth': 7, 'n_estimators': 8, 'n_jobs': -1}\n",
      "0.855 (+/-0.036) for {'class_weight': {0: 0.3, 1: 0.7}, 'criterion': 'gini', 'max_depth': 7, 'n_estimators': 32, 'n_jobs': -1}\n",
      "0.838 (+/-0.060) for {'class_weight': {0: 0.3, 1: 0.7}, 'criterion': 'gini', 'max_depth': 7, 'n_estimators': 128, 'n_jobs': -1}\n",
      "0.848 (+/-0.045) for {'class_weight': {0: 0.3, 1: 0.7}, 'criterion': 'gini', 'max_depth': 7, 'n_estimators': 512, 'n_jobs': -1}\n",
      "0.785 (+/-0.068) for {'class_weight': {0: 0.3, 1: 0.7}, 'criterion': 'gini', 'max_depth': 9, 'n_estimators': 8, 'n_jobs': -1}\n",
      "0.832 (+/-0.023) for {'class_weight': {0: 0.3, 1: 0.7}, 'criterion': 'gini', 'max_depth': 9, 'n_estimators': 32, 'n_jobs': -1}\n",
      "0.850 (+/-0.061) for {'class_weight': {0: 0.3, 1: 0.7}, 'criterion': 'gini', 'max_depth': 9, 'n_estimators': 128, 'n_jobs': -1}\n",
      "0.850 (+/-0.045) for {'class_weight': {0: 0.3, 1: 0.7}, 'criterion': 'gini', 'max_depth': 9, 'n_estimators': 512, 'n_jobs': -1}\n",
      "0.866 (+/-0.046) for {'class_weight': {0: 0.2, 1: 0.8}, 'criterion': 'gini', 'max_depth': 3, 'n_estimators': 8, 'n_jobs': -1}\n",
      "0.885 (+/-0.039) for {'class_weight': {0: 0.2, 1: 0.8}, 'criterion': 'gini', 'max_depth': 3, 'n_estimators': 32, 'n_jobs': -1}\n",
      "0.898 (+/-0.039) for {'class_weight': {0: 0.2, 1: 0.8}, 'criterion': 'gini', 'max_depth': 3, 'n_estimators': 128, 'n_jobs': -1}\n",
      "0.893 (+/-0.036) for {'class_weight': {0: 0.2, 1: 0.8}, 'criterion': 'gini', 'max_depth': 3, 'n_estimators': 512, 'n_jobs': -1}\n",
      "0.826 (+/-0.086) for {'class_weight': {0: 0.2, 1: 0.8}, 'criterion': 'gini', 'max_depth': 5, 'n_estimators': 8, 'n_jobs': -1}\n",
      "0.862 (+/-0.054) for {'class_weight': {0: 0.2, 1: 0.8}, 'criterion': 'gini', 'max_depth': 5, 'n_estimators': 32, 'n_jobs': -1}\n",
      "0.881 (+/-0.061) for {'class_weight': {0: 0.2, 1: 0.8}, 'criterion': 'gini', 'max_depth': 5, 'n_estimators': 128, 'n_jobs': -1}\n",
      "0.874 (+/-0.044) for {'class_weight': {0: 0.2, 1: 0.8}, 'criterion': 'gini', 'max_depth': 5, 'n_estimators': 512, 'n_jobs': -1}\n",
      "0.793 (+/-0.055) for {'class_weight': {0: 0.2, 1: 0.8}, 'criterion': 'gini', 'max_depth': 7, 'n_estimators': 8, 'n_jobs': -1}\n",
      "0.832 (+/-0.055) for {'class_weight': {0: 0.2, 1: 0.8}, 'criterion': 'gini', 'max_depth': 7, 'n_estimators': 32, 'n_jobs': -1}\n",
      "0.849 (+/-0.054) for {'class_weight': {0: 0.2, 1: 0.8}, 'criterion': 'gini', 'max_depth': 7, 'n_estimators': 128, 'n_jobs': -1}\n",
      "0.849 (+/-0.063) for {'class_weight': {0: 0.2, 1: 0.8}, 'criterion': 'gini', 'max_depth': 7, 'n_estimators': 512, 'n_jobs': -1}\n",
      "0.788 (+/-0.087) for {'class_weight': {0: 0.2, 1: 0.8}, 'criterion': 'gini', 'max_depth': 9, 'n_estimators': 8, 'n_jobs': -1}\n",
      "0.845 (+/-0.063) for {'class_weight': {0: 0.2, 1: 0.8}, 'criterion': 'gini', 'max_depth': 9, 'n_estimators': 32, 'n_jobs': -1}\n",
      "0.845 (+/-0.078) for {'class_weight': {0: 0.2, 1: 0.8}, 'criterion': 'gini', 'max_depth': 9, 'n_estimators': 128, 'n_jobs': -1}\n",
      "0.850 (+/-0.052) for {'class_weight': {0: 0.2, 1: 0.8}, 'criterion': 'gini', 'max_depth': 9, 'n_estimators': 512, 'n_jobs': -1}\n",
      "0.861 (+/-0.040) for {'class_weight': 'balanced', 'criterion': 'entropy', 'max_depth': 3, 'n_estimators': 8, 'n_jobs': -1}\n",
      "0.899 (+/-0.034) for {'class_weight': 'balanced', 'criterion': 'entropy', 'max_depth': 3, 'n_estimators': 32, 'n_jobs': -1}\n",
      "0.903 (+/-0.061) for {'class_weight': 'balanced', 'criterion': 'entropy', 'max_depth': 3, 'n_estimators': 128, 'n_jobs': -1}\n",
      "0.898 (+/-0.029) for {'class_weight': 'balanced', 'criterion': 'entropy', 'max_depth': 3, 'n_estimators': 512, 'n_jobs': -1}\n",
      "0.844 (+/-0.069) for {'class_weight': 'balanced', 'criterion': 'entropy', 'max_depth': 5, 'n_estimators': 8, 'n_jobs': -1}\n",
      "0.869 (+/-0.046) for {'class_weight': 'balanced', 'criterion': 'entropy', 'max_depth': 5, 'n_estimators': 32, 'n_jobs': -1}\n",
      "0.879 (+/-0.045) for {'class_weight': 'balanced', 'criterion': 'entropy', 'max_depth': 5, 'n_estimators': 128, 'n_jobs': -1}\n",
      "0.880 (+/-0.054) for {'class_weight': 'balanced', 'criterion': 'entropy', 'max_depth': 5, 'n_estimators': 512, 'n_jobs': -1}\n",
      "0.819 (+/-0.058) for {'class_weight': 'balanced', 'criterion': 'entropy', 'max_depth': 7, 'n_estimators': 8, 'n_jobs': -1}\n",
      "0.824 (+/-0.080) for {'class_weight': 'balanced', 'criterion': 'entropy', 'max_depth': 7, 'n_estimators': 32, 'n_jobs': -1}\n",
      "0.861 (+/-0.053) for {'class_weight': 'balanced', 'criterion': 'entropy', 'max_depth': 7, 'n_estimators': 128, 'n_jobs': -1}\n",
      "0.864 (+/-0.027) for {'class_weight': 'balanced', 'criterion': 'entropy', 'max_depth': 7, 'n_estimators': 512, 'n_jobs': -1}\n",
      "0.783 (+/-0.023) for {'class_weight': 'balanced', 'criterion': 'entropy', 'max_depth': 9, 'n_estimators': 8, 'n_jobs': -1}\n",
      "0.846 (+/-0.047) for {'class_weight': 'balanced', 'criterion': 'entropy', 'max_depth': 9, 'n_estimators': 32, 'n_jobs': -1}\n",
      "0.847 (+/-0.054) for {'class_weight': 'balanced', 'criterion': 'entropy', 'max_depth': 9, 'n_estimators': 128, 'n_jobs': -1}\n",
      "0.854 (+/-0.050) for {'class_weight': 'balanced', 'criterion': 'entropy', 'max_depth': 9, 'n_estimators': 512, 'n_jobs': -1}\n",
      "0.810 (+/-0.061) for {'class_weight': {0: 0.4, 1: 0.6}, 'criterion': 'entropy', 'max_depth': 3, 'n_estimators': 8, 'n_jobs': -1}\n",
      "0.850 (+/-0.053) for {'class_weight': {0: 0.4, 1: 0.6}, 'criterion': 'entropy', 'max_depth': 3, 'n_estimators': 32, 'n_jobs': -1}\n",
      "0.841 (+/-0.079) for {'class_weight': {0: 0.4, 1: 0.6}, 'criterion': 'entropy', 'max_depth': 3, 'n_estimators': 128, 'n_jobs': -1}\n",
      "0.838 (+/-0.065) for {'class_weight': {0: 0.4, 1: 0.6}, 'criterion': 'entropy', 'max_depth': 3, 'n_estimators': 512, 'n_jobs': -1}\n",
      "0.854 (+/-0.083) for {'class_weight': {0: 0.4, 1: 0.6}, 'criterion': 'entropy', 'max_depth': 5, 'n_estimators': 8, 'n_jobs': -1}\n",
      "0.853 (+/-0.037) for {'class_weight': {0: 0.4, 1: 0.6}, 'criterion': 'entropy', 'max_depth': 5, 'n_estimators': 32, 'n_jobs': -1}\n",
      "0.858 (+/-0.048) for {'class_weight': {0: 0.4, 1: 0.6}, 'criterion': 'entropy', 'max_depth': 5, 'n_estimators': 128, 'n_jobs': -1}\n",
      "0.857 (+/-0.051) for {'class_weight': {0: 0.4, 1: 0.6}, 'criterion': 'entropy', 'max_depth': 5, 'n_estimators': 512, 'n_jobs': -1}\n",
      "0.814 (+/-0.051) for {'class_weight': {0: 0.4, 1: 0.6}, 'criterion': 'entropy', 'max_depth': 7, 'n_estimators': 8, 'n_jobs': -1}\n",
      "0.856 (+/-0.050) for {'class_weight': {0: 0.4, 1: 0.6}, 'criterion': 'entropy', 'max_depth': 7, 'n_estimators': 32, 'n_jobs': -1}\n",
      "0.865 (+/-0.043) for {'class_weight': {0: 0.4, 1: 0.6}, 'criterion': 'entropy', 'max_depth': 7, 'n_estimators': 128, 'n_jobs': -1}\n",
      "0.858 (+/-0.054) for {'class_weight': {0: 0.4, 1: 0.6}, 'criterion': 'entropy', 'max_depth': 7, 'n_estimators': 512, 'n_jobs': -1}\n",
      "0.828 (+/-0.096) for {'class_weight': {0: 0.4, 1: 0.6}, 'criterion': 'entropy', 'max_depth': 9, 'n_estimators': 8, 'n_jobs': -1}\n",
      "0.862 (+/-0.040) for {'class_weight': {0: 0.4, 1: 0.6}, 'criterion': 'entropy', 'max_depth': 9, 'n_estimators': 32, 'n_jobs': -1}\n",
      "0.848 (+/-0.067) for {'class_weight': {0: 0.4, 1: 0.6}, 'criterion': 'entropy', 'max_depth': 9, 'n_estimators': 128, 'n_jobs': -1}\n",
      "0.870 (+/-0.033) for {'class_weight': {0: 0.4, 1: 0.6}, 'criterion': 'entropy', 'max_depth': 9, 'n_estimators': 512, 'n_jobs': -1}\n",
      "0.847 (+/-0.050) for {'class_weight': {0: 0.3, 1: 0.7}, 'criterion': 'entropy', 'max_depth': 3, 'n_estimators': 8, 'n_jobs': -1}\n",
      "0.850 (+/-0.064) for {'class_weight': {0: 0.3, 1: 0.7}, 'criterion': 'entropy', 'max_depth': 3, 'n_estimators': 32, 'n_jobs': -1}\n",
      "0.854 (+/-0.049) for {'class_weight': {0: 0.3, 1: 0.7}, 'criterion': 'entropy', 'max_depth': 3, 'n_estimators': 128, 'n_jobs': -1}\n",
      "0.863 (+/-0.037) for {'class_weight': {0: 0.3, 1: 0.7}, 'criterion': 'entropy', 'max_depth': 3, 'n_estimators': 512, 'n_jobs': -1}\n",
      "0.831 (+/-0.074) for {'class_weight': {0: 0.3, 1: 0.7}, 'criterion': 'entropy', 'max_depth': 5, 'n_estimators': 8, 'n_jobs': -1}\n",
      "0.859 (+/-0.048) for {'class_weight': {0: 0.3, 1: 0.7}, 'criterion': 'entropy', 'max_depth': 5, 'n_estimators': 32, 'n_jobs': -1}\n",
      "0.867 (+/-0.057) for {'class_weight': {0: 0.3, 1: 0.7}, 'criterion': 'entropy', 'max_depth': 5, 'n_estimators': 128, 'n_jobs': -1}\n",
      "0.850 (+/-0.065) for {'class_weight': {0: 0.3, 1: 0.7}, 'criterion': 'entropy', 'max_depth': 5, 'n_estimators': 512, 'n_jobs': -1}\n",
      "0.810 (+/-0.077) for {'class_weight': {0: 0.3, 1: 0.7}, 'criterion': 'entropy', 'max_depth': 7, 'n_estimators': 8, 'n_jobs': -1}\n",
      "0.842 (+/-0.040) for {'class_weight': {0: 0.3, 1: 0.7}, 'criterion': 'entropy', 'max_depth': 7, 'n_estimators': 32, 'n_jobs': -1}\n",
      "0.851 (+/-0.062) for {'class_weight': {0: 0.3, 1: 0.7}, 'criterion': 'entropy', 'max_depth': 7, 'n_estimators': 128, 'n_jobs': -1}\n",
      "0.857 (+/-0.068) for {'class_weight': {0: 0.3, 1: 0.7}, 'criterion': 'entropy', 'max_depth': 7, 'n_estimators': 512, 'n_jobs': -1}\n",
      "0.805 (+/-0.075) for {'class_weight': {0: 0.3, 1: 0.7}, 'criterion': 'entropy', 'max_depth': 9, 'n_estimators': 8, 'n_jobs': -1}\n",
      "0.837 (+/-0.078) for {'class_weight': {0: 0.3, 1: 0.7}, 'criterion': 'entropy', 'max_depth': 9, 'n_estimators': 32, 'n_jobs': -1}\n",
      "0.870 (+/-0.033) for {'class_weight': {0: 0.3, 1: 0.7}, 'criterion': 'entropy', 'max_depth': 9, 'n_estimators': 128, 'n_jobs': -1}\n",
      "0.855 (+/-0.048) for {'class_weight': {0: 0.3, 1: 0.7}, 'criterion': 'entropy', 'max_depth': 9, 'n_estimators': 512, 'n_jobs': -1}\n",
      "0.868 (+/-0.042) for {'class_weight': {0: 0.2, 1: 0.8}, 'criterion': 'entropy', 'max_depth': 3, 'n_estimators': 8, 'n_jobs': -1}\n",
      "0.892 (+/-0.032) for {'class_weight': {0: 0.2, 1: 0.8}, 'criterion': 'entropy', 'max_depth': 3, 'n_estimators': 32, 'n_jobs': -1}\n",
      "0.887 (+/-0.056) for {'class_weight': {0: 0.2, 1: 0.8}, 'criterion': 'entropy', 'max_depth': 3, 'n_estimators': 128, 'n_jobs': -1}\n",
      "0.888 (+/-0.046) for {'class_weight': {0: 0.2, 1: 0.8}, 'criterion': 'entropy', 'max_depth': 3, 'n_estimators': 512, 'n_jobs': -1}\n",
      "0.841 (+/-0.046) for {'class_weight': {0: 0.2, 1: 0.8}, 'criterion': 'entropy', 'max_depth': 5, 'n_estimators': 8, 'n_jobs': -1}\n",
      "0.876 (+/-0.036) for {'class_weight': {0: 0.2, 1: 0.8}, 'criterion': 'entropy', 'max_depth': 5, 'n_estimators': 32, 'n_jobs': -1}\n",
      "0.881 (+/-0.057) for {'class_weight': {0: 0.2, 1: 0.8}, 'criterion': 'entropy', 'max_depth': 5, 'n_estimators': 128, 'n_jobs': -1}\n",
      "0.877 (+/-0.052) for {'class_weight': {0: 0.2, 1: 0.8}, 'criterion': 'entropy', 'max_depth': 5, 'n_estimators': 512, 'n_jobs': -1}\n",
      "0.816 (+/-0.081) for {'class_weight': {0: 0.2, 1: 0.8}, 'criterion': 'entropy', 'max_depth': 7, 'n_estimators': 8, 'n_jobs': -1}\n",
      "0.858 (+/-0.061) for {'class_weight': {0: 0.2, 1: 0.8}, 'criterion': 'entropy', 'max_depth': 7, 'n_estimators': 32, 'n_jobs': -1}\n",
      "0.856 (+/-0.053) for {'class_weight': {0: 0.2, 1: 0.8}, 'criterion': 'entropy', 'max_depth': 7, 'n_estimators': 128, 'n_jobs': -1}\n",
      "0.851 (+/-0.045) for {'class_weight': {0: 0.2, 1: 0.8}, 'criterion': 'entropy', 'max_depth': 7, 'n_estimators': 512, 'n_jobs': -1}\n",
      "0.788 (+/-0.028) for {'class_weight': {0: 0.2, 1: 0.8}, 'criterion': 'entropy', 'max_depth': 9, 'n_estimators': 8, 'n_jobs': -1}\n",
      "0.847 (+/-0.052) for {'class_weight': {0: 0.2, 1: 0.8}, 'criterion': 'entropy', 'max_depth': 9, 'n_estimators': 32, 'n_jobs': -1}\n",
      "0.843 (+/-0.065) for {'class_weight': {0: 0.2, 1: 0.8}, 'criterion': 'entropy', 'max_depth': 9, 'n_estimators': 128, 'n_jobs': -1}\n",
      "0.856 (+/-0.049) for {'class_weight': {0: 0.2, 1: 0.8}, 'criterion': 'entropy', 'max_depth': 9, 'n_estimators': 512, 'n_jobs': -1}\n",
      "\n",
      "Detailed classification report:\n",
      "\n",
      "The model is trained on the full development set.\n",
      "The scores are computed on the full evaluation set.\n",
      "\n",
      "             precision    recall  f1-score   support\n",
      "\n",
      "          0       0.96      0.97      0.96       259\n",
      "          1       0.83      0.78      0.80        49\n",
      "\n",
      "avg / total       0.94      0.94      0.94       308\n",
      "\n",
      "\n"
     ]
    }
   ],
   "source": [
    "scores = ['precision', 'recall']\n",
    "\n",
    "for score in scores:\n",
    "    print(\"# Tuning hyper-parameters for %s\" % score)\n",
    "    print()\n",
    "\n",
    "    clf = GridSearchCV(RandomForestClassifier(), tuned_parameters, cv=5,\n",
    "                       scoring='%s_macro' % score)\n",
    "    clf.fit(x_train, y_train)\n",
    "\n",
    "    print(\"Best parameters set found on development set:\")\n",
    "    print()\n",
    "    print(clf.best_params_)\n",
    "    print()\n",
    "    print(\"Grid scores on development set:\")\n",
    "    print()\n",
    "    means = clf.cv_results_['mean_test_score']\n",
    "    stds = clf.cv_results_['std_test_score']\n",
    "    for mean, std, params in zip(means, stds, clf.cv_results_['params']):\n",
    "        print(\"%0.3f (+/-%0.03f) for %r\"\n",
    "              % (mean, std * 2, params))\n",
    "    print()\n",
    "\n",
    "    print(\"Detailed classification report:\")\n",
    "    print()\n",
    "    print(\"The model is trained on the full development set.\")\n",
    "    print(\"The scores are computed on the full evaluation set.\")\n",
    "    print()\n",
    "    y_true, y_pred = y_test, clf.predict(x_test)\n",
    "    print(classification_report(y_true, y_pred))\n",
    "    print()"
   ]
  },
  {
   "cell_type": "markdown",
   "metadata": {},
   "source": [
    "# base line"
   ]
  },
  {
   "cell_type": "markdown",
   "metadata": {},
   "source": [
    "아무런 튜닝을 하지 않고 RGB이미지를 Gray 변환된 데이터를 통해 RandomForest를 통해 분류기 돌린 결과"
   ]
  },
  {
   "cell_type": "code",
   "execution_count": 14,
   "metadata": {},
   "outputs": [
    {
     "data": {
      "image/png": "[encoded data removed]",
      "text/plain": [
       "<matplotlib.figure.Figure at 0x119e18550>"
      ]
     },
     "metadata": {},
     "output_type": "display_data"
    },
    {
     "name": "stdout",
     "output_type": "stream",
     "text": [
      "rfClassifierE P:[ 0.12662338  0.65306122  1.        ] R:[ 1.          0.82051282  0.        ]\n",
      "Confusion matrix, without normalization\n",
      "[[252   7]\n",
      " [ 17  32]]\n",
      "Normalized confusion matrix\n",
      "[[ 0.97  0.03]\n",
      " [ 0.35  0.65]]\n"
     ]
    },
    {
     "data": {
      "image/png": "[encoded data removed]",
      "text/plain": [
       "<matplotlib.figure.Figure at 0x1041cdc88>"
      ]
     },
     "metadata": {},
     "output_type": "display_data"
    },
    {
     "data": {
      "image/png": "[encoded data removed]",
      "text/plain": [
       "<matplotlib.figure.Figure at 0x1344f49b0>"
      ]
     },
     "metadata": {},
     "output_type": "display_data"
    },
    {
     "data": {
      "image/png": "[encoded data removed]",
      "text/plain": [
       "<matplotlib.figure.Figure at 0x1345e9c50>"
      ]
     },
     "metadata": {},
     "output_type": "display_data"
    }
   ],
   "source": [
    "rfClassifierE = RandomForestClassifier()\n",
    "rfClassifierE.fit(x_train, y_train)\n",
    "plot_ROC(rfClassifierE, x_test, y_test)\n",
    "draw_prcurve(rfClassifierE.predict(x_test), y_test, 'b', 'rfClassifierE')\n",
    "test_model2(rfClassifierE, x_test, y_test)"
   ]
  },
  {
   "cell_type": "code",
   "execution_count": 15,
   "metadata": {},
   "outputs": [
    {
     "name": "stdout",
     "output_type": "stream",
     "text": [
      "0.727272727273\n"
     ]
    }
   ],
   "source": [
    "from sklearn.metrics import f1_score\n",
    "print(f1_score(y_test, rfClassifierE.predict(x_test)))"
   ]
  },
  {
   "cell_type": "markdown",
   "metadata": {},
   "source": [
    "# Tunning"
   ]
  },
  {
   "cell_type": "markdown",
   "metadata": {},
   "source": [
    "튜닝된 결과<br>\n",
    "GridSearch를 통해 RandomForest의 모델을 튜닝한 결과,"
   ]
  },
  {
   "cell_type": "code",
   "execution_count": 16,
   "metadata": {},
   "outputs": [
    {
     "data": {
      "image/png": "[encoded data removed]",
      "text/plain": [
       "<matplotlib.figure.Figure at 0x1342faa90>"
      ]
     },
     "metadata": {},
     "output_type": "display_data"
    },
    {
     "name": "stdout",
     "output_type": "stream",
     "text": [
      "rfClassifierE P:[ 0.15  0.78  1.  ] R:[ 1.    0.83  0.  ]\n",
      "Confusion matrix, without normalization\n",
      "[[251   8]\n",
      " [ 11  38]]\n",
      "Normalized confusion matrix\n",
      "[[ 0.97  0.03]\n",
      " [ 0.22  0.78]]\n"
     ]
    },
    {
     "data": {
      "image/png": "[encoded data removed]",
      "text/plain": [
       "<matplotlib.figure.Figure at 0x1347cc7b8>"
      ]
     },
     "metadata": {},
     "output_type": "display_data"
    },
    {
     "data": {
      "image/png": "[encoded data removed]",
      "text/plain": [
       "<matplotlib.figure.Figure at 0x134b16be0>"
      ]
     },
     "metadata": {},
     "output_type": "display_data"
    },
    {
     "data": {
      "image/png": "[encoded data removed]",
      "text/plain": [
       "<matplotlib.figure.Figure at 0x119e5aac8>"
      ]
     },
     "metadata": {},
     "output_type": "display_data"
    }
   ],
   "source": [
    "plot_ROC(clf, x_test, y_test)\n",
    "draw_prcurve(clf.predict(x_test), y_test, 'b', 'rfClassifierE')\n",
    "test_model2(clf, x_test, y_test)"
   ]
  },
  {
   "cell_type": "code",
   "execution_count": 17,
   "metadata": {},
   "outputs": [
    {
     "name": "stdout",
     "output_type": "stream",
     "text": [
      "0.8\n"
     ]
    }
   ],
   "source": [
    "from sklearn.metrics import f1_score\n",
    "print(f1_score(y_test, clf.predict(x_test)))"
   ]
  },
  {
   "cell_type": "markdown",
   "metadata": {},
   "source": [
    "# Tunning Parameter"
   ]
  },
  {
   "cell_type": "code",
   "execution_count": 18,
   "metadata": {},
   "outputs": [
    {
     "name": "stdout",
     "output_type": "stream",
     "text": [
      "{'class_weight': 'balanced', 'criterion': 'gini', 'max_depth': 3, 'n_estimators': 512, 'n_jobs': -1}\n"
     ]
    }
   ],
   "source": [
    "print(clf.best_params_)"
   ]
  },
  {
   "cell_type": "code",
   "execution_count": null,
   "metadata": {
    "collapsed": true
   },
   "outputs": [],
   "source": []
  }
 ],
 "metadata": {
  "kernelspec": {
   "display_name": "Python 3",
   "language": "python",
   "name": "python3"
  },
  "language_info": {
   "codemirror_mode": {
    "name": "ipython",
    "version": 3
   },
   "file_extension": ".py",
   "mimetype": "text/x-python",
   "name": "python",
   "nbconvert_exporter": "python",
   "pygments_lexer": "ipython3",
   "version": "3.6.1"
  }
 },
 "nbformat": 4,
 "nbformat_minor": 2
}
