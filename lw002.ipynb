{
 "cells": [
  {
   "cell_type": "markdown",
   "metadata": {},
   "source": [
    "segment.py : lw001.ipynb 에서 작성한 detect_segment 함수와 디렉토리내에서의 모든 파일에 대한 처리 코드 추가<br>"
   ]
  },
  {
   "cell_type": "markdown",
   "metadata": {},
   "source": [
    "python segment.py -i /Users/mins/Documents/mv/ps/dataset/Laser_Welding/ -o /Users/mins/Documents/mv/ps/dataset/segment"
   ]
  },
  {
   "cell_type": "markdown",
   "metadata": {},
   "source": [
    "-i : input directory <br>\n",
    "-o : output directory"
   ]
  },
  {
   "cell_type": "markdown",
   "metadata": {},
   "source": [
    "# Result directory"
   ]
  },
  {
   "cell_type": "markdown",
   "metadata": {},
   "source": [
    "/dataset/segment/ng : 불량 이미지 파일 <br>\n",
    "파일명 : <기존파일명>_<구멍번호>.jpg"
   ]
  },
  {
   "cell_type": "markdown",
   "metadata": {},
   "source": [
    "/dataset/segment/ok:정상 이미지 파일<br>\n",
    "파일명:<기존파일명>_<구멍번호>.jpg"
   ]
  },
  {
   "cell_type": "markdown",
   "metadata": {},
   "source": [
    "segment.py <br>\n",
    "정상 처리 파일 수 : 146 <br>\n",
    "비정상 처리 파일 수 : 66"
   ]
  },
  {
   "cell_type": "code",
   "execution_count": null,
   "metadata": {
    "collapsed": true
   },
   "outputs": [],
   "source": []
  }
 ],
 "metadata": {
  "kernelspec": {
   "display_name": "Python 3",
   "language": "python",
   "name": "python3"
  },
  "language_info": {
   "codemirror_mode": {
    "name": "ipython",
    "version": 3
   },
   "file_extension": ".py",
   "mimetype": "text/x-python",
   "name": "python",
   "nbconvert_exporter": "python",
   "pygments_lexer": "ipython3",
   "version": "3.6.1"
  }
 },
 "nbformat": 4,
 "nbformat_minor": 2
}
